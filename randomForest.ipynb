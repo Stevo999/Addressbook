{
  "nbformat": 4,
  "nbformat_minor": 0,
  "metadata": {
    "colab": {
      "provenance": [],
      "gpuType": "T4",
      "authorship_tag": "ABX9TyMOV51LxezWZfqOQsEpO2mP",
      "include_colab_link": true
    },
    "kernelspec": {
      "name": "ir",
      "display_name": "R"
    },
    "language_info": {
      "name": "R"
    },
    "accelerator": "GPU"
  },
  "cells": [
    {
      "cell_type": "markdown",
      "metadata": {
        "id": "view-in-github",
        "colab_type": "text"
      },
      "source": [
        "<a href=\"https://colab.research.google.com/github/Stevo999/Addressbook/blob/main/randomForest.ipynb\" target=\"_parent\"><img src=\"https://colab.research.google.com/assets/colab-badge.svg\" alt=\"Open In Colab\"/></a>"
      ]
    },
    {
      "cell_type": "code",
      "execution_count": 4,
      "metadata": {
        "colab": {
          "base_uri": "https://localhost:8080/"
        },
        "id": "Hm1DB0btuMus",
        "outputId": "d95f9e2d-e27e-499a-a2b9-f621ac47d8e8"
      },
      "outputs": [
        {
          "output_type": "stream",
          "name": "stderr",
          "text": [
            "Installing package into ‘/usr/local/lib/R/site-library’\n",
            "(as ‘lib’ is unspecified)\n",
            "\n"
          ]
        }
      ],
      "source": [
        "# Install required R packages\n",
        "install.packages(\"randomForest\")\n",
        "install.packages(\"caret\")"
      ]
    },
    {
      "cell_type": "code",
      "source": [
        "\n",
        "# Load necessary libraries\n",
        "library(randomForest)\n",
        "library(caret)\n"
      ],
      "metadata": {
        "id": "7s4SR28wukTB"
      },
      "execution_count": 33,
      "outputs": []
    },
    {
      "cell_type": "code",
      "source": [
        "# Load the dataset\n",
        "data <- read.csv(\"hotels.csv\")"
      ],
      "metadata": {
        "id": "iHx4q676woEi"
      },
      "execution_count": 34,
      "outputs": []
    },
    {
      "cell_type": "code",
      "source": [
        "# Ensure that data is a dataframe\n",
        "data <- as.data.frame(data)\n",
        "\n",
        "# Data Preprocessing\n",
        "# Handle missing values\n",
        "data <- na.omit(data)"
      ],
      "metadata": {
        "id": "pbiuhJaKw_to"
      },
      "execution_count": 35,
      "outputs": []
    },
    {
      "cell_type": "code",
      "source": [
        "# Check for duplicates\n",
        "duplicates <- duplicated(data)\n",
        "\n",
        "# If you want to remove duplicates\n",
        "data <- data[!duplicates, ]\n"
      ],
      "metadata": {
        "id": "rJhBkk6oxD7R"
      },
      "execution_count": 36,
      "outputs": []
    },
    {
      "cell_type": "code",
      "source": [
        "# Feature Engineering (Example: Adding a new feature 'total_people' by summing 'adults', 'children', and 'babies')\n",
        "data$total_people <- data$adults + data$children + data$babies"
      ],
      "metadata": {
        "id": "MWhrPwAjTkCz"
      },
      "execution_count": 37,
      "outputs": []
    },
    {
      "cell_type": "code",
      "source": [
        "# Selecting features (replace feature_names with actual column names)\n",
        "selected_features <- c(\"lead_time\", \"stays_in_weekend_nights\", \"stays_in_week_nights\", \"adults\", \"children\", \"babies\", \"adr\", \"total_of_special_requests\")\n",
        "\n",
        "# Extract selected features and target variable\n",
        "selected_data <- data[, c(selected_features, \"is_canceled\")]\n"
      ],
      "metadata": {
        "id": "c-91o402xH-_"
      },
      "execution_count": 38,
      "outputs": []
    },
    {
      "cell_type": "code",
      "source": [
        "# Convert is_canceled to a factor and ensure valid variable names\n",
        "selected_data$is_canceled <- factor(selected_data$is_canceled)\n",
        "levels(selected_data$is_canceled) <- make.names(levels(selected_data$is_canceled))\n",
        "\n",
        "# Split the data into features and target variable\n",
        "X <- selected_data[, -which(names(selected_data) == \"is_canceled\")]\n",
        "y <- selected_data$is_canceled"
      ],
      "metadata": {
        "id": "Ey7hqENmxLj5"
      },
      "execution_count": 39,
      "outputs": []
    },
    {
      "cell_type": "code",
      "source": [
        "# Split the data into training and testing sets\n",
        "set.seed(123)  # For reproducibility\n",
        "train_index <- createDataPartition(y, p = 0.8, list = FALSE)\n",
        "X_train <- X[train_index, ]\n",
        "X_test <- X[-train_index, ]\n",
        "y_train <- y[train_index]\n",
        "y_test <- y[-train_index]"
      ],
      "metadata": {
        "id": "REYbwtyixOkp"
      },
      "execution_count": 40,
      "outputs": []
    },
    {
      "cell_type": "code",
      "source": [
        "# Define a training control\n",
        "ctrl <- trainControl(method = \"cv\", classProbs = TRUE)"
      ],
      "metadata": {
        "id": "fiLEIOyAMzUU"
      },
      "execution_count": 41,
      "outputs": []
    },
    {
      "cell_type": "code",
      "source": [
        "# Parameter Grid for tuning\n",
        "param_grid <- expand.grid(mtry = c(2, 3, 4), ntree = c(100, 300, 500))"
      ],
      "metadata": {
        "id": "ruDTdMl0Trob"
      },
      "execution_count": 44,
      "outputs": []
    },
    {
      "cell_type": "code",
      "source": [
        "# Model Selection and Training\n",
        "model <- train(x = X_train, y = y_train, method = \"rf\", trControl = ctrl, ntree = 100, allowParallel = TRUE)\n"
      ],
      "metadata": {
        "id": "UQQ8kTKEMzvD"
      },
      "execution_count": 45,
      "outputs": []
    },
    {
      "cell_type": "code",
      "source": [
        "# Predictions\n",
        "y_pred <- predict(model, X_test)"
      ],
      "metadata": {
        "id": "o7mIm8EwxVEK"
      },
      "execution_count": 46,
      "outputs": []
    },
    {
      "cell_type": "code",
      "source": [
        "# Evaluate the model\n",
        "accuracy <- confusionMatrix(data = y_pred, reference = y_test)$overall['Accuracy']\n",
        "print(paste(\"Accuracy:\", accuracy))"
      ],
      "metadata": {
        "colab": {
          "base_uri": "https://localhost:8080/"
        },
        "id": "pyzQy6_TxbSA",
        "outputId": "5e82c731-6de1-4c17-c0a2-d2999fb4eebd"
      },
      "execution_count": 47,
      "outputs": [
        {
          "output_type": "stream",
          "name": "stdout",
          "text": [
            "[1] \"Accuracy: 0.753575924018766\"\n"
          ]
        }
      ]
    },
    {
      "cell_type": "code",
      "source": [
        "\n",
        "# Save the trained model\n",
        "saveRDS(model, \"random_forest_model.rds\")"
      ],
      "metadata": {
        "id": "Gbj3NLdxxcXH"
      },
      "execution_count": 49,
      "outputs": []
    }
  ]
}